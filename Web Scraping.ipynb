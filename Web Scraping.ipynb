{
 "cells": [
  {
   "cell_type": "markdown",
   "metadata": {},
   "source": [
    "## Web Scraping"
   ]
  },
  {
   "cell_type": "code",
   "execution_count": 1,
   "metadata": {},
   "outputs": [],
   "source": [
    "url = 'https://cooking.nytimes.com/recipes/1015181-marcella-hazans-bolognese-sauce'"
   ]
  },
  {
   "cell_type": "code",
   "execution_count": 2,
   "metadata": {},
   "outputs": [],
   "source": [
    "from  bs4  import  BeautifulSoup\n",
    "import requests"
   ]
  },
  {
   "cell_type": "code",
   "execution_count": 3,
   "metadata": {},
   "outputs": [],
   "source": [
    "response  =  requests.get(url)"
   ]
  },
  {
   "cell_type": "code",
   "execution_count": 4,
   "metadata": {},
   "outputs": [
    {
     "data": {
      "text/plain": [
       "<Response [200]>"
      ]
     },
     "execution_count": 4,
     "metadata": {},
     "output_type": "execute_result"
    }
   ],
   "source": [
    "response"
   ]
  },
  {
   "cell_type": "code",
   "execution_count": 5,
   "metadata": {},
   "outputs": [
    {
     "data": {
      "text/plain": [
       "'<!DOCTYPE html>\\n<html lang=\"en-US\">\\n  <head>\\n    <title>Marcella Hazan’s Bolognese Sauce Recipe - NY'"
      ]
     },
     "execution_count": 5,
     "metadata": {},
     "output_type": "execute_result"
    }
   ],
   "source": [
    "response.text[:100]"
   ]
  },
  {
   "cell_type": "code",
   "execution_count": 6,
   "metadata": {},
   "outputs": [],
   "source": [
    "pasta =  BeautifulSoup (response.text, 'html.parser')"
   ]
  },
  {
   "cell_type": "code",
   "execution_count": 31,
   "metadata": {},
   "outputs": [
    {
     "data": {
      "text/plain": [
       "[<span data-reactid=\"5\">Sorry! We're currently performing maintenance on the site. Certain actions are not working at this time. Check back later.</span>,\n",
       " <span data-reactid=\"8\">Menu</span>,\n",
       " <span data-reactid=\"29\">What to Cook This Week</span>,\n",
       " <span class=\"nytc---loginbtn---navSubLabel\" data-reactid=\"33\">Log In</span>,\n",
       " <span class=\"nytc---signupbtn---loggedIn nytc---signupbtn---nonSub\" data-reactid=\"47\"></span>,\n",
       " <span class=\"nytc---mobileSearchIcon---icon\" data-reactid=\"60\"></span>,\n",
       " <span class=\"nytc---sitesearchbar---clearQuery\" data-reactid=\"72\">X</span>,\n",
       " <span class=\"nytc---sitesearchbar---searchBTN\" data-reactid=\"74\">Search</span>,\n",
       " <span class=\"byline-name\" itemprop=\"author\">The New York Times</span>,\n",
       " <span class=\"recipe-yield-time-label recipe-yield\">Yield</span>,\n",
       " <span class=\"recipe-yield-value\" itemprop=\"recipeYield\">2 heaping cups, for about 6 servings and 1 1/2 pounds pasta</span>,\n",
       " <span class=\"recipe-yield-time-label recipe-time\">Time</span>,\n",
       " <span class=\"recipe-yield-value\">At least 4 hours</span>,\n",
       " <span class=\"icon icon-save-white\"></span>,\n",
       " <span class=\"icon icon-save-white\"></span>,\n",
       " <span class=\"icon icon-save-white\"></span>,\n",
       " <span class=\"recipe-save\">Save</span>,\n",
       " <span class=\"recipe-saved\">Saved</span>,\n",
       " <span class=\"icon icon-organize-white\">Add to a collection</span>,\n",
       " <span class=\"label\">Featured in: </span>,\n",
       " <span class=\"ratings-metadata\">\n",
       " <span itemprop=\"ratingValue\">5</span>\n",
       " <span itemprop=\"ratingCount\">3536</span>\n",
       " </span>,\n",
       " <span itemprop=\"ratingValue\">5</span>,\n",
       " <span itemprop=\"ratingCount\">3536</span>,\n",
       " <span class=\"quantity\">\n",
       "                   1\n",
       "                 </span>,\n",
       " <span class=\"ingredient-name\">\n",
       "                   tablespoon <span>vegetable oil</span>\n",
       " </span>,\n",
       " <span>vegetable oil</span>,\n",
       " <span class=\"quantity\">\n",
       "                   3\n",
       "                 </span>,\n",
       " <span class=\"ingredient-name\">\n",
       "                   tablespoons <span>butter</span> plus 1 tablespoon for tossing the pasta\n",
       "                 </span>,\n",
       " <span>butter</span>,\n",
       " <span class=\"quantity\">\n",
       "                   ½\n",
       "                 </span>,\n",
       " <span class=\"ingredient-name\">\n",
       "                   cup chopped <span>onion</span>\n",
       " </span>,\n",
       " <span>onion</span>,\n",
       " <span class=\"quantity\">\n",
       "                   ⅔\n",
       "                 </span>,\n",
       " <span class=\"ingredient-name\">\n",
       "                   cup chopped <span>celery</span>\n",
       " </span>,\n",
       " <span>celery</span>,\n",
       " <span class=\"quantity\">\n",
       "                   ⅔\n",
       "                 </span>,\n",
       " <span class=\"ingredient-name\">\n",
       "                   cup chopped <span>carrot</span>\n",
       " </span>,\n",
       " <span>carrot</span>,\n",
       " <span class=\"quantity\">\n",
       "                   ¾\n",
       "                 </span>,\n",
       " <span class=\"ingredient-name\">\n",
       "                   pound <span>ground beef chuck</span> (or you can use 1 part pork to 2 parts beef)\n",
       "                 </span>,\n",
       " <span>ground beef chuck</span>,\n",
       " <span class=\"quantity\">\n",
       " </span>,\n",
       " <span class=\"ingredient-name\">\n",
       "                   Salt\n",
       "                 </span>,\n",
       " <span class=\"quantity\">\n",
       " </span>,\n",
       " <span class=\"ingredient-name\">\n",
       "                   Black pepper, ground fresh from the mill\n",
       "                 </span>,\n",
       " <span class=\"quantity\">\n",
       "                   1\n",
       "                 </span>,\n",
       " <span class=\"ingredient-name\">\n",
       "                   cup <span>whole milk</span>\n",
       " </span>,\n",
       " <span>whole milk</span>,\n",
       " <span class=\"quantity\">\n",
       " </span>,\n",
       " <span class=\"ingredient-name\">\n",
       " <span>Whole nutmeg</span>\n",
       " </span>,\n",
       " <span>Whole nutmeg</span>,\n",
       " <span class=\"quantity\">\n",
       "                   1\n",
       "                 </span>,\n",
       " <span class=\"ingredient-name\">\n",
       "                   cup <span>dry white wine</span>\n",
       " </span>,\n",
       " <span>dry white wine</span>,\n",
       " <span class=\"quantity\">\n",
       "                   1 ½\n",
       "                 </span>,\n",
       " <span class=\"ingredient-name\">\n",
       "                   cups <span>canned imported Italian plum tomatoes</span>, cut up, with their juice\n",
       "                 </span>,\n",
       " <span>canned imported Italian plum tomatoes</span>,\n",
       " <span class=\"quantity\">\n",
       "                   1 ¼ to 1 ½\n",
       "                 </span>,\n",
       " <span class=\"ingredient-name\">\n",
       "                   pounds <span>pasta</span>\n",
       " </span>,\n",
       " <span>pasta</span>,\n",
       " <span class=\"quantity\">\n",
       " </span>,\n",
       " <span class=\"ingredient-name\">\n",
       " <span>Freshly grated parmigiano-reggiano cheese</span> at the table\n",
       "                 </span>,\n",
       " <span>Freshly grated parmigiano-reggiano cheese</span>,\n",
       " <span class=\"description\">Get recipes, tips and special offers in your inbox. Opt out or <a class=\"contact-us-link\" href=\"http://www.nytimes.com/help/index.html\">contact us</a> anytime.</span>,\n",
       " <span class=\"header\">Like this recipe?</span>,\n",
       " <span class=\"icon icon-save-white\"></span>,\n",
       " <span class=\"icon icon-save-white\"></span>,\n",
       " <span class=\"icon icon-save-white\"></span>,\n",
       " <span class=\"recipe-save\">Save</span>,\n",
       " <span class=\"recipe-saved\">Saved</span>,\n",
       " <span class=\"icon icon-organize-white\">Add to a collection</span>,\n",
       " <span class=\"icon icon-bookmark-hover-outline control-transition\"></span>,\n",
       " <span class=\"icon icon-bookmark-hover-fill\"></span>,\n",
       " <span class=\"icon icon-bookmark-hover-outline control-transition\"></span>,\n",
       " <span class=\"icon icon-bookmark-hover-fill\"></span>,\n",
       " <span class=\"icon icon-bookmark-hover-outline control-transition\"></span>,\n",
       " <span class=\"icon icon-bookmark-hover-fill\"></span>,\n",
       " <span class=\"icon icon-bookmark-hover-outline control-transition\"></span>,\n",
       " <span class=\"icon icon-bookmark-hover-fill\"></span>,\n",
       " <span class=\"icon icon-bookmark-hover-outline control-transition\"></span>,\n",
       " <span class=\"icon icon-bookmark-hover-fill\"></span>,\n",
       " <span class=\"icon icon-bookmark-hover-outline control-transition\"></span>,\n",
       " <span class=\"icon icon-bookmark-hover-fill\"></span>,\n",
       " <span class=\"icon icon-bookmark-hover-outline control-transition\"></span>,\n",
       " <span class=\"icon icon-bookmark-hover-fill\"></span>,\n",
       " <span class=\"icon icon-bookmark-hover-outline control-transition\"></span>,\n",
       " <span class=\"icon icon-bookmark-hover-fill\"></span>,\n",
       " <span class=\"description\">Get recipes, tips and NYT special offers delivered straight to your inbox. Opt out or <a class=\"contact-us-link\" href=\"http://www.nytimes.com/help/index.html\">contact us</a> anytime.</span>,\n",
       " <span class=\"blurb\">Follow Cooking</span>,\n",
       " <span class=\"blurb\">Cooking For iPad &amp; iPhone</span>,\n",
       " <span itemid=\"http://www.nytimes.com\" itemprop=\"copyrightHolder provider sourceOrganization\" itemscope=\"\" itemtype=\"http://schema.org/Corporation\">\n",
       " <span itemprop=\"name\">The New York Times Company</span>\n",
       " <meta content=\"NYSE NYT\" itemprop=\"tickerSymbol\">\n",
       " </meta></span>,\n",
       " <span itemprop=\"name\">The New York Times Company</span>]"
      ]
     },
     "execution_count": 31,
     "metadata": {},
     "output_type": "execute_result"
    }
   ],
   "source": [
    "pasta.find_all('span')"
   ]
  },
  {
   "cell_type": "code",
   "execution_count": 35,
   "metadata": {},
   "outputs": [
    {
     "data": {
      "text/plain": [
       "[<span data-reactid=\"5\">Sorry! We're currently performing maintenance on the site. Certain actions are not working at this time. Check back later.</span>,\n",
       " <span data-reactid=\"8\">Menu</span>,\n",
       " <span data-reactid=\"29\">What to Cook This Week</span>,\n",
       " <span class=\"nytc---loginbtn---navSubLabel\" data-reactid=\"33\">Log In</span>,\n",
       " <span class=\"nytc---signupbtn---loggedIn nytc---signupbtn---nonSub\" data-reactid=\"47\"></span>,\n",
       " <span class=\"nytc---mobileSearchIcon---icon\" data-reactid=\"60\"></span>,\n",
       " <span class=\"nytc---sitesearchbar---clearQuery\" data-reactid=\"72\">X</span>,\n",
       " <span class=\"nytc---sitesearchbar---searchBTN\" data-reactid=\"74\">Search</span>,\n",
       " <span class=\"byline-name\" itemprop=\"author\">The New York Times</span>,\n",
       " <span class=\"recipe-yield-time-label recipe-yield\">Yield</span>,\n",
       " <span class=\"recipe-yield-value\" itemprop=\"recipeYield\">2 heaping cups, for about 6 servings and 1 1/2 pounds pasta</span>,\n",
       " <span class=\"recipe-yield-time-label recipe-time\">Time</span>,\n",
       " <span class=\"recipe-yield-value\">At least 4 hours</span>,\n",
       " <span class=\"icon icon-save-white\"></span>,\n",
       " <span class=\"icon icon-save-white\"></span>,\n",
       " <span class=\"icon icon-save-white\"></span>,\n",
       " <span class=\"recipe-save\">Save</span>,\n",
       " <span class=\"recipe-saved\">Saved</span>,\n",
       " <span class=\"icon icon-organize-white\">Add to a collection</span>,\n",
       " <span class=\"label\">Featured in: </span>,\n",
       " <span class=\"ratings-metadata\">\n",
       " <span itemprop=\"ratingValue\">5</span>\n",
       " <span itemprop=\"ratingCount\">3536</span>\n",
       " </span>,\n",
       " <span itemprop=\"ratingValue\">5</span>,\n",
       " <span itemprop=\"ratingCount\">3536</span>,\n",
       " <span class=\"quantity\">\n",
       "                   1\n",
       "                 </span>,\n",
       " <span class=\"ingredient-name\">\n",
       "                   tablespoon <span>vegetable oil</span>\n",
       " </span>,\n",
       " <span>vegetable oil</span>,\n",
       " <span class=\"quantity\">\n",
       "                   3\n",
       "                 </span>,\n",
       " <span class=\"ingredient-name\">\n",
       "                   tablespoons <span>butter</span> plus 1 tablespoon for tossing the pasta\n",
       "                 </span>,\n",
       " <span>butter</span>,\n",
       " <span class=\"quantity\">\n",
       "                   ½\n",
       "                 </span>,\n",
       " <span class=\"ingredient-name\">\n",
       "                   cup chopped <span>onion</span>\n",
       " </span>,\n",
       " <span>onion</span>,\n",
       " <span class=\"quantity\">\n",
       "                   ⅔\n",
       "                 </span>,\n",
       " <span class=\"ingredient-name\">\n",
       "                   cup chopped <span>celery</span>\n",
       " </span>,\n",
       " <span>celery</span>,\n",
       " <span class=\"quantity\">\n",
       "                   ⅔\n",
       "                 </span>,\n",
       " <span class=\"ingredient-name\">\n",
       "                   cup chopped <span>carrot</span>\n",
       " </span>,\n",
       " <span>carrot</span>,\n",
       " <span class=\"quantity\">\n",
       "                   ¾\n",
       "                 </span>,\n",
       " <span class=\"ingredient-name\">\n",
       "                   pound <span>ground beef chuck</span> (or you can use 1 part pork to 2 parts beef)\n",
       "                 </span>,\n",
       " <span>ground beef chuck</span>,\n",
       " <span class=\"quantity\">\n",
       " </span>,\n",
       " <span class=\"ingredient-name\">\n",
       "                   Salt\n",
       "                 </span>,\n",
       " <span class=\"quantity\">\n",
       " </span>,\n",
       " <span class=\"ingredient-name\">\n",
       "                   Black pepper, ground fresh from the mill\n",
       "                 </span>,\n",
       " <span class=\"quantity\">\n",
       "                   1\n",
       "                 </span>,\n",
       " <span class=\"ingredient-name\">\n",
       "                   cup <span>whole milk</span>\n",
       " </span>,\n",
       " <span>whole milk</span>,\n",
       " <span class=\"quantity\">\n",
       " </span>,\n",
       " <span class=\"ingredient-name\">\n",
       " <span>Whole nutmeg</span>\n",
       " </span>,\n",
       " <span>Whole nutmeg</span>,\n",
       " <span class=\"quantity\">\n",
       "                   1\n",
       "                 </span>,\n",
       " <span class=\"ingredient-name\">\n",
       "                   cup <span>dry white wine</span>\n",
       " </span>,\n",
       " <span>dry white wine</span>,\n",
       " <span class=\"quantity\">\n",
       "                   1 ½\n",
       "                 </span>,\n",
       " <span class=\"ingredient-name\">\n",
       "                   cups <span>canned imported Italian plum tomatoes</span>, cut up, with their juice\n",
       "                 </span>,\n",
       " <span>canned imported Italian plum tomatoes</span>,\n",
       " <span class=\"quantity\">\n",
       "                   1 ¼ to 1 ½\n",
       "                 </span>,\n",
       " <span class=\"ingredient-name\">\n",
       "                   pounds <span>pasta</span>\n",
       " </span>,\n",
       " <span>pasta</span>,\n",
       " <span class=\"quantity\">\n",
       " </span>,\n",
       " <span class=\"ingredient-name\">\n",
       " <span>Freshly grated parmigiano-reggiano cheese</span> at the table\n",
       "                 </span>,\n",
       " <span>Freshly grated parmigiano-reggiano cheese</span>,\n",
       " <span class=\"description\">Get recipes, tips and special offers in your inbox. Opt out or <a class=\"contact-us-link\" href=\"http://www.nytimes.com/help/index.html\">contact us</a> anytime.</span>,\n",
       " <span class=\"header\">Like this recipe?</span>,\n",
       " <span class=\"icon icon-save-white\"></span>,\n",
       " <span class=\"icon icon-save-white\"></span>,\n",
       " <span class=\"icon icon-save-white\"></span>,\n",
       " <span class=\"recipe-save\">Save</span>,\n",
       " <span class=\"recipe-saved\">Saved</span>,\n",
       " <span class=\"icon icon-organize-white\">Add to a collection</span>,\n",
       " <span class=\"icon icon-bookmark-hover-outline control-transition\"></span>,\n",
       " <span class=\"icon icon-bookmark-hover-fill\"></span>,\n",
       " <span class=\"icon icon-bookmark-hover-outline control-transition\"></span>,\n",
       " <span class=\"icon icon-bookmark-hover-fill\"></span>,\n",
       " <span class=\"icon icon-bookmark-hover-outline control-transition\"></span>,\n",
       " <span class=\"icon icon-bookmark-hover-fill\"></span>,\n",
       " <span class=\"icon icon-bookmark-hover-outline control-transition\"></span>,\n",
       " <span class=\"icon icon-bookmark-hover-fill\"></span>,\n",
       " <span class=\"icon icon-bookmark-hover-outline control-transition\"></span>,\n",
       " <span class=\"icon icon-bookmark-hover-fill\"></span>,\n",
       " <span class=\"icon icon-bookmark-hover-outline control-transition\"></span>,\n",
       " <span class=\"icon icon-bookmark-hover-fill\"></span>,\n",
       " <span class=\"icon icon-bookmark-hover-outline control-transition\"></span>,\n",
       " <span class=\"icon icon-bookmark-hover-fill\"></span>,\n",
       " <span class=\"icon icon-bookmark-hover-outline control-transition\"></span>,\n",
       " <span class=\"icon icon-bookmark-hover-fill\"></span>,\n",
       " <span class=\"description\">Get recipes, tips and NYT special offers delivered straight to your inbox. Opt out or <a class=\"contact-us-link\" href=\"http://www.nytimes.com/help/index.html\">contact us</a> anytime.</span>,\n",
       " <span class=\"blurb\">Follow Cooking</span>,\n",
       " <span class=\"blurb\">Cooking For iPad &amp; iPhone</span>,\n",
       " <span itemid=\"http://www.nytimes.com\" itemprop=\"copyrightHolder provider sourceOrganization\" itemscope=\"\" itemtype=\"http://schema.org/Corporation\">\n",
       " <span itemprop=\"name\">The New York Times Company</span>\n",
       " <meta content=\"NYSE NYT\" itemprop=\"tickerSymbol\">\n",
       " </meta></span>,\n",
       " <span itemprop=\"name\">The New York Times Company</span>]"
      ]
     },
     "execution_count": 35,
     "metadata": {},
     "output_type": "execute_result"
    }
   ],
   "source": [
    "pasta.find_all('span')[:100]"
   ]
  },
  {
   "cell_type": "code",
   "execution_count": 55,
   "metadata": {},
   "outputs": [],
   "source": [
    "ingredients = pasta.find_all('span')"
   ]
  },
  {
   "cell_type": "code",
   "execution_count": 56,
   "metadata": {},
   "outputs": [
    {
     "data": {
      "text/plain": [
       "92"
      ]
     },
     "execution_count": 56,
     "metadata": {},
     "output_type": "execute_result"
    }
   ],
   "source": [
    "len(ingredients)"
   ]
  },
  {
   "cell_type": "code",
   "execution_count": 57,
   "metadata": {},
   "outputs": [
    {
     "data": {
      "text/plain": [
       "<span data-reactid=\"5\">Sorry! We're currently performing maintenance on the site. Certain actions are not working at this time. Check back later.</span>"
      ]
     },
     "execution_count": 57,
     "metadata": {},
     "output_type": "execute_result"
    }
   ],
   "source": [
    "ingredients[0]"
   ]
  },
  {
   "cell_type": "code",
   "execution_count": 59,
   "metadata": {},
   "outputs": [
    {
     "data": {
      "text/plain": [
       "[<span data-reactid=\"8\">Menu</span>,\n",
       " <span data-reactid=\"29\">What to Cook This Week</span>,\n",
       " <span class=\"nytc---loginbtn---navSubLabel\" data-reactid=\"33\">Log In</span>,\n",
       " <span class=\"nytc---signupbtn---loggedIn nytc---signupbtn---nonSub\" data-reactid=\"47\"></span>,\n",
       " <span class=\"nytc---mobileSearchIcon---icon\" data-reactid=\"60\"></span>,\n",
       " <span class=\"nytc---sitesearchbar---clearQuery\" data-reactid=\"72\">X</span>,\n",
       " <span class=\"nytc---sitesearchbar---searchBTN\" data-reactid=\"74\">Search</span>,\n",
       " <span class=\"byline-name\" itemprop=\"author\">The New York Times</span>,\n",
       " <span class=\"recipe-yield-time-label recipe-yield\">Yield</span>,\n",
       " <span class=\"recipe-yield-value\" itemprop=\"recipeYield\">2 heaping cups, for about 6 servings and 1 1/2 pounds pasta</span>,\n",
       " <span class=\"recipe-yield-time-label recipe-time\">Time</span>,\n",
       " <span class=\"recipe-yield-value\">At least 4 hours</span>,\n",
       " <span class=\"icon icon-save-white\"></span>,\n",
       " <span class=\"icon icon-save-white\"></span>,\n",
       " <span class=\"icon icon-save-white\"></span>,\n",
       " <span class=\"recipe-save\">Save</span>,\n",
       " <span class=\"recipe-saved\">Saved</span>,\n",
       " <span class=\"icon icon-organize-white\">Add to a collection</span>,\n",
       " <span class=\"label\">Featured in: </span>,\n",
       " <span class=\"ratings-metadata\">\n",
       " <span itemprop=\"ratingValue\">5</span>\n",
       " <span itemprop=\"ratingCount\">3536</span>\n",
       " </span>,\n",
       " <span itemprop=\"ratingValue\">5</span>,\n",
       " <span itemprop=\"ratingCount\">3536</span>,\n",
       " <span class=\"quantity\">\n",
       "                   1\n",
       "                 </span>,\n",
       " <span class=\"ingredient-name\">\n",
       "                   tablespoon <span>vegetable oil</span>\n",
       " </span>,\n",
       " <span>vegetable oil</span>,\n",
       " <span class=\"quantity\">\n",
       "                   3\n",
       "                 </span>,\n",
       " <span class=\"ingredient-name\">\n",
       "                   tablespoons <span>butter</span> plus 1 tablespoon for tossing the pasta\n",
       "                 </span>,\n",
       " <span>butter</span>,\n",
       " <span class=\"quantity\">\n",
       "                   ½\n",
       "                 </span>,\n",
       " <span class=\"ingredient-name\">\n",
       "                   cup chopped <span>onion</span>\n",
       " </span>,\n",
       " <span>onion</span>,\n",
       " <span class=\"quantity\">\n",
       "                   ⅔\n",
       "                 </span>,\n",
       " <span class=\"ingredient-name\">\n",
       "                   cup chopped <span>celery</span>\n",
       " </span>,\n",
       " <span>celery</span>,\n",
       " <span class=\"quantity\">\n",
       "                   ⅔\n",
       "                 </span>,\n",
       " <span class=\"ingredient-name\">\n",
       "                   cup chopped <span>carrot</span>\n",
       " </span>,\n",
       " <span>carrot</span>,\n",
       " <span class=\"quantity\">\n",
       "                   ¾\n",
       "                 </span>,\n",
       " <span class=\"ingredient-name\">\n",
       "                   pound <span>ground beef chuck</span> (or you can use 1 part pork to 2 parts beef)\n",
       "                 </span>,\n",
       " <span>ground beef chuck</span>,\n",
       " <span class=\"quantity\">\n",
       " </span>,\n",
       " <span class=\"ingredient-name\">\n",
       "                   Salt\n",
       "                 </span>,\n",
       " <span class=\"quantity\">\n",
       " </span>,\n",
       " <span class=\"ingredient-name\">\n",
       "                   Black pepper, ground fresh from the mill\n",
       "                 </span>,\n",
       " <span class=\"quantity\">\n",
       "                   1\n",
       "                 </span>,\n",
       " <span class=\"ingredient-name\">\n",
       "                   cup <span>whole milk</span>\n",
       " </span>,\n",
       " <span>whole milk</span>,\n",
       " <span class=\"quantity\">\n",
       " </span>,\n",
       " <span class=\"ingredient-name\">\n",
       " <span>Whole nutmeg</span>\n",
       " </span>,\n",
       " <span>Whole nutmeg</span>,\n",
       " <span class=\"quantity\">\n",
       "                   1\n",
       "                 </span>,\n",
       " <span class=\"ingredient-name\">\n",
       "                   cup <span>dry white wine</span>\n",
       " </span>,\n",
       " <span>dry white wine</span>,\n",
       " <span class=\"quantity\">\n",
       "                   1 ½\n",
       "                 </span>,\n",
       " <span class=\"ingredient-name\">\n",
       "                   cups <span>canned imported Italian plum tomatoes</span>, cut up, with their juice\n",
       "                 </span>,\n",
       " <span>canned imported Italian plum tomatoes</span>,\n",
       " <span class=\"quantity\">\n",
       "                   1 ¼ to 1 ½\n",
       "                 </span>,\n",
       " <span class=\"ingredient-name\">\n",
       "                   pounds <span>pasta</span>\n",
       " </span>,\n",
       " <span>pasta</span>,\n",
       " <span class=\"quantity\">\n",
       " </span>,\n",
       " <span class=\"ingredient-name\">\n",
       " <span>Freshly grated parmigiano-reggiano cheese</span> at the table\n",
       "                 </span>,\n",
       " <span>Freshly grated parmigiano-reggiano cheese</span>,\n",
       " <span class=\"description\">Get recipes, tips and special offers in your inbox. Opt out or <a class=\"contact-us-link\" href=\"http://www.nytimes.com/help/index.html\">contact us</a> anytime.</span>,\n",
       " <span class=\"header\">Like this recipe?</span>,\n",
       " <span class=\"icon icon-save-white\"></span>,\n",
       " <span class=\"icon icon-save-white\"></span>,\n",
       " <span class=\"icon icon-save-white\"></span>,\n",
       " <span class=\"recipe-save\">Save</span>,\n",
       " <span class=\"recipe-saved\">Saved</span>,\n",
       " <span class=\"icon icon-organize-white\">Add to a collection</span>,\n",
       " <span class=\"icon icon-bookmark-hover-outline control-transition\"></span>,\n",
       " <span class=\"icon icon-bookmark-hover-fill\"></span>,\n",
       " <span class=\"icon icon-bookmark-hover-outline control-transition\"></span>,\n",
       " <span class=\"icon icon-bookmark-hover-fill\"></span>,\n",
       " <span class=\"icon icon-bookmark-hover-outline control-transition\"></span>,\n",
       " <span class=\"icon icon-bookmark-hover-fill\"></span>,\n",
       " <span class=\"icon icon-bookmark-hover-outline control-transition\"></span>,\n",
       " <span class=\"icon icon-bookmark-hover-fill\"></span>,\n",
       " <span class=\"icon icon-bookmark-hover-outline control-transition\"></span>,\n",
       " <span class=\"icon icon-bookmark-hover-fill\"></span>,\n",
       " <span class=\"icon icon-bookmark-hover-outline control-transition\"></span>,\n",
       " <span class=\"icon icon-bookmark-hover-fill\"></span>,\n",
       " <span class=\"icon icon-bookmark-hover-outline control-transition\"></span>,\n",
       " <span class=\"icon icon-bookmark-hover-fill\"></span>,\n",
       " <span class=\"icon icon-bookmark-hover-outline control-transition\"></span>,\n",
       " <span class=\"icon icon-bookmark-hover-fill\"></span>,\n",
       " <span class=\"description\">Get recipes, tips and NYT special offers delivered straight to your inbox. Opt out or <a class=\"contact-us-link\" href=\"http://www.nytimes.com/help/index.html\">contact us</a> anytime.</span>,\n",
       " <span class=\"blurb\">Follow Cooking</span>,\n",
       " <span class=\"blurb\">Cooking For iPad &amp; iPhone</span>,\n",
       " <span itemid=\"http://www.nytimes.com\" itemprop=\"copyrightHolder provider sourceOrganization\" itemscope=\"\" itemtype=\"http://schema.org/Corporation\">\n",
       " <span itemprop=\"name\">The New York Times Company</span>\n",
       " <meta content=\"NYSE NYT\" itemprop=\"tickerSymbol\">\n",
       " </meta></span>,\n",
       " <span itemprop=\"name\">The New York Times Company</span>]"
      ]
     },
     "execution_count": 59,
     "metadata": {},
     "output_type": "execute_result"
    }
   ],
   "source": [
    "ingredients[1:92]"
   ]
  },
  {
   "cell_type": "code",
   "execution_count": 44,
   "metadata": {},
   "outputs": [
    {
     "data": {
      "text/plain": [
       "'What to Cook This Week'"
      ]
     },
     "execution_count": 44,
     "metadata": {},
     "output_type": "execute_result"
    }
   ],
   "source": [
    "ingredients[2].text"
   ]
  },
  {
   "cell_type": "code",
   "execution_count": 45,
   "metadata": {},
   "outputs": [],
   "source": [
    "table = []\n",
    "for i in ingredients:\n",
    "    ingredient = i.text\n",
    "    table.append(ingredient)"
   ]
  },
  {
   "cell_type": "code",
   "execution_count": 46,
   "metadata": {},
   "outputs": [
    {
     "data": {
      "text/plain": [
       "92"
      ]
     },
     "execution_count": 46,
     "metadata": {},
     "output_type": "execute_result"
    }
   ],
   "source": [
    "len(table)"
   ]
  },
  {
   "cell_type": "code",
   "execution_count": 48,
   "metadata": {},
   "outputs": [
    {
     "data": {
      "text/plain": [
       "[\"Sorry! We're currently performing maintenance on the site. Certain actions are not working at this time. Check back later.\",\n",
       " 'Menu',\n",
       " 'What to Cook This Week',\n",
       " 'Log In',\n",
       " '',\n",
       " '',\n",
       " 'X',\n",
       " 'Search',\n",
       " 'The New York Times',\n",
       " 'Yield',\n",
       " '2 heaping cups, for about 6 servings and 1 1/2 pounds pasta',\n",
       " 'Time',\n",
       " 'At least 4 hours',\n",
       " '',\n",
       " '']"
      ]
     },
     "execution_count": 48,
     "metadata": {},
     "output_type": "execute_result"
    }
   ],
   "source": [
    "table[:15]"
   ]
  },
  {
   "cell_type": "code",
   "execution_count": 60,
   "metadata": {},
   "outputs": [],
   "source": [
    "import pandas as pd\n",
    "df = pd.DataFrame(table, columns=['Ingredients'])"
   ]
  },
  {
   "cell_type": "code",
   "execution_count": 61,
   "metadata": {},
   "outputs": [
    {
     "data": {
      "text/html": [
       "<div>\n",
       "<style scoped>\n",
       "    .dataframe tbody tr th:only-of-type {\n",
       "        vertical-align: middle;\n",
       "    }\n",
       "\n",
       "    .dataframe tbody tr th {\n",
       "        vertical-align: top;\n",
       "    }\n",
       "\n",
       "    .dataframe thead th {\n",
       "        text-align: right;\n",
       "    }\n",
       "</style>\n",
       "<table border=\"1\" class=\"dataframe\">\n",
       "  <thead>\n",
       "    <tr style=\"text-align: right;\">\n",
       "      <th></th>\n",
       "      <th>Ingredients</th>\n",
       "    </tr>\n",
       "  </thead>\n",
       "  <tbody>\n",
       "    <tr>\n",
       "      <th>0</th>\n",
       "      <td>Sorry! We're currently performing maintenance ...</td>\n",
       "    </tr>\n",
       "    <tr>\n",
       "      <th>1</th>\n",
       "      <td>Menu</td>\n",
       "    </tr>\n",
       "    <tr>\n",
       "      <th>2</th>\n",
       "      <td>What to Cook This Week</td>\n",
       "    </tr>\n",
       "    <tr>\n",
       "      <th>3</th>\n",
       "      <td>Log In</td>\n",
       "    </tr>\n",
       "    <tr>\n",
       "      <th>4</th>\n",
       "      <td></td>\n",
       "    </tr>\n",
       "  </tbody>\n",
       "</table>\n",
       "</div>"
      ],
      "text/plain": [
       "                                         Ingredients\n",
       "0  Sorry! We're currently performing maintenance ...\n",
       "1                                               Menu\n",
       "2                             What to Cook This Week\n",
       "3                                             Log In\n",
       "4                                                   "
      ]
     },
     "execution_count": 61,
     "metadata": {},
     "output_type": "execute_result"
    }
   ],
   "source": [
    "df.head()"
   ]
  },
  {
   "cell_type": "code",
   "execution_count": null,
   "metadata": {},
   "outputs": [],
   "source": []
  }
 ],
 "metadata": {
  "kernelspec": {
   "display_name": "Python 3",
   "language": "python",
   "name": "python3"
  },
  "language_info": {
   "codemirror_mode": {
    "name": "ipython",
    "version": 3
   },
   "file_extension": ".py",
   "mimetype": "text/x-python",
   "name": "python",
   "nbconvert_exporter": "python",
   "pygments_lexer": "ipython3",
   "version": "3.6.5"
  }
 },
 "nbformat": 4,
 "nbformat_minor": 2
}
