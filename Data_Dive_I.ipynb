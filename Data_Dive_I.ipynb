{
 "cells": [
  {
   "cell_type": "markdown",
   "metadata": {},
   "source": [
    "## RAMEN REVIEW DATA SET \n",
    "\n",
    "The ramen reviews dataset that I got was from Kaggle.com and I found that it was interesting to see the breakdown and different categories of the ramen and I really enjoy exploring the different types of ramen that I come across, so that's why I chose the data. \n",
    "\n",
    "# Create a new Jupyter notebook titled Data Dive I\n",
    "In a markdown cell, write a brief overview of the dataset, where it came from, the source of the data, and why you chose this dataset.\n",
    "\n",
    "Import matplotlib, numpy, and pandas\n",
    "\n",
    "Make sure to use %matplotlib inline to make plots appear in the notebook\n",
    "\n",
    "read you dataset in to a DataFrame with pd.read_csv(or appropriate file type)\n",
    "\n",
    "using df.info() tell me about the different variable types, if there are missing data, and if there are variables that need to be recoded\n",
    "\n",
    "display the first five rows of your dataframe with df.head()\n",
    "\n",
    "Select a column that is a categorical variable, and perform a .groupby() on this column.\n",
    "\n",
    "Select a column that is a quantitative variable and make a histogram of this (for example to make plot of tips column df['tips'].hist() )\n",
    "\n",
    "Use the same column to make a boxplot"
   ]
  },
  {
   "cell_type": "code",
   "execution_count": 1,
   "metadata": {},
   "outputs": [],
   "source": [
    "import pandas as pd"
   ]
  },
  {
   "cell_type": "code",
   "execution_count": 2,
   "metadata": {},
   "outputs": [],
   "source": [
    "df = pd.read_csv('data/ramen-ratings.csv')"
   ]
  },
  {
   "cell_type": "code",
   "execution_count": 3,
   "metadata": {},
   "outputs": [
    {
     "name": "stdout",
     "output_type": "stream",
     "text": [
      "<class 'pandas.core.frame.DataFrame'>\n",
      "RangeIndex: 2580 entries, 0 to 2579\n",
      "Data columns (total 7 columns):\n",
      "Review #    2580 non-null int64\n",
      "Brand       2580 non-null object\n",
      "Variety     2580 non-null object\n",
      "Style       2578 non-null object\n",
      "Country     2580 non-null object\n",
      "Stars       2580 non-null object\n",
      "Top Ten     41 non-null object\n",
      "dtypes: int64(1), object(6)\n",
      "memory usage: 141.2+ KB\n"
     ]
    }
   ],
   "source": [
    "df.info()"
   ]
  },
  {
   "cell_type": "code",
   "execution_count": 4,
   "metadata": {},
   "outputs": [
    {
     "data": {
      "text/html": [
       "<div>\n",
       "<style scoped>\n",
       "    .dataframe tbody tr th:only-of-type {\n",
       "        vertical-align: middle;\n",
       "    }\n",
       "\n",
       "    .dataframe tbody tr th {\n",
       "        vertical-align: top;\n",
       "    }\n",
       "\n",
       "    .dataframe thead th {\n",
       "        text-align: right;\n",
       "    }\n",
       "</style>\n",
       "<table border=\"1\" class=\"dataframe\">\n",
       "  <thead>\n",
       "    <tr style=\"text-align: right;\">\n",
       "      <th></th>\n",
       "      <th>Review #</th>\n",
       "      <th>Brand</th>\n",
       "      <th>Variety</th>\n",
       "      <th>Style</th>\n",
       "      <th>Country</th>\n",
       "      <th>Stars</th>\n",
       "      <th>Top Ten</th>\n",
       "    </tr>\n",
       "  </thead>\n",
       "  <tbody>\n",
       "    <tr>\n",
       "      <th>0</th>\n",
       "      <td>2580</td>\n",
       "      <td>New Touch</td>\n",
       "      <td>T's Restaurant Tantanmen</td>\n",
       "      <td>Cup</td>\n",
       "      <td>Japan</td>\n",
       "      <td>3.75</td>\n",
       "      <td>NaN</td>\n",
       "    </tr>\n",
       "    <tr>\n",
       "      <th>1</th>\n",
       "      <td>2579</td>\n",
       "      <td>Just Way</td>\n",
       "      <td>Noodles Spicy Hot Sesame Spicy Hot Sesame Guan...</td>\n",
       "      <td>Pack</td>\n",
       "      <td>Taiwan</td>\n",
       "      <td>1</td>\n",
       "      <td>NaN</td>\n",
       "    </tr>\n",
       "    <tr>\n",
       "      <th>2</th>\n",
       "      <td>2578</td>\n",
       "      <td>Nissin</td>\n",
       "      <td>Cup Noodles Chicken Vegetable</td>\n",
       "      <td>Cup</td>\n",
       "      <td>USA</td>\n",
       "      <td>2.25</td>\n",
       "      <td>NaN</td>\n",
       "    </tr>\n",
       "    <tr>\n",
       "      <th>3</th>\n",
       "      <td>2577</td>\n",
       "      <td>Wei Lih</td>\n",
       "      <td>GGE Ramen Snack Tomato Flavor</td>\n",
       "      <td>Pack</td>\n",
       "      <td>Taiwan</td>\n",
       "      <td>2.75</td>\n",
       "      <td>NaN</td>\n",
       "    </tr>\n",
       "    <tr>\n",
       "      <th>4</th>\n",
       "      <td>2576</td>\n",
       "      <td>Ching's Secret</td>\n",
       "      <td>Singapore Curry</td>\n",
       "      <td>Pack</td>\n",
       "      <td>India</td>\n",
       "      <td>3.75</td>\n",
       "      <td>NaN</td>\n",
       "    </tr>\n",
       "  </tbody>\n",
       "</table>\n",
       "</div>"
      ],
      "text/plain": [
       "   Review #           Brand  \\\n",
       "0      2580       New Touch   \n",
       "1      2579        Just Way   \n",
       "2      2578          Nissin   \n",
       "3      2577         Wei Lih   \n",
       "4      2576  Ching's Secret   \n",
       "\n",
       "                                             Variety Style Country Stars  \\\n",
       "0                          T's Restaurant Tantanmen    Cup   Japan  3.75   \n",
       "1  Noodles Spicy Hot Sesame Spicy Hot Sesame Guan...  Pack  Taiwan     1   \n",
       "2                      Cup Noodles Chicken Vegetable   Cup     USA  2.25   \n",
       "3                      GGE Ramen Snack Tomato Flavor  Pack  Taiwan  2.75   \n",
       "4                                    Singapore Curry  Pack   India  3.75   \n",
       "\n",
       "  Top Ten  \n",
       "0     NaN  \n",
       "1     NaN  \n",
       "2     NaN  \n",
       "3     NaN  \n",
       "4     NaN  "
      ]
     },
     "execution_count": 4,
     "metadata": {},
     "output_type": "execute_result"
    }
   ],
   "source": [
    "df.head()"
   ]
  },
  {
   "cell_type": "code",
   "execution_count": 5,
   "metadata": {},
   "outputs": [],
   "source": [
    "import numpy as np"
   ]
  },
  {
   "cell_type": "code",
   "execution_count": 6,
   "metadata": {},
   "outputs": [],
   "source": [
    "df.iloc[32, 5] = np.nan\n",
    "df.iloc[122, 5] = np.nan\n",
    "df.iloc[993, 5] = np.nan"
   ]
  },
  {
   "cell_type": "code",
   "execution_count": 7,
   "metadata": {},
   "outputs": [
    {
     "data": {
      "text/html": [
       "<div>\n",
       "<style scoped>\n",
       "    .dataframe tbody tr th:only-of-type {\n",
       "        vertical-align: middle;\n",
       "    }\n",
       "\n",
       "    .dataframe tbody tr th {\n",
       "        vertical-align: top;\n",
       "    }\n",
       "\n",
       "    .dataframe thead th {\n",
       "        text-align: right;\n",
       "    }\n",
       "</style>\n",
       "<table border=\"1\" class=\"dataframe\">\n",
       "  <thead>\n",
       "    <tr style=\"text-align: right;\">\n",
       "      <th></th>\n",
       "      <th>Review #</th>\n",
       "    </tr>\n",
       "  </thead>\n",
       "  <tbody>\n",
       "    <tr>\n",
       "      <th>count</th>\n",
       "      <td>2580.000000</td>\n",
       "    </tr>\n",
       "    <tr>\n",
       "      <th>mean</th>\n",
       "      <td>1290.500000</td>\n",
       "    </tr>\n",
       "    <tr>\n",
       "      <th>std</th>\n",
       "      <td>744.926171</td>\n",
       "    </tr>\n",
       "    <tr>\n",
       "      <th>min</th>\n",
       "      <td>1.000000</td>\n",
       "    </tr>\n",
       "    <tr>\n",
       "      <th>25%</th>\n",
       "      <td>645.750000</td>\n",
       "    </tr>\n",
       "    <tr>\n",
       "      <th>50%</th>\n",
       "      <td>1290.500000</td>\n",
       "    </tr>\n",
       "    <tr>\n",
       "      <th>75%</th>\n",
       "      <td>1935.250000</td>\n",
       "    </tr>\n",
       "    <tr>\n",
       "      <th>max</th>\n",
       "      <td>2580.000000</td>\n",
       "    </tr>\n",
       "  </tbody>\n",
       "</table>\n",
       "</div>"
      ],
      "text/plain": [
       "          Review #\n",
       "count  2580.000000\n",
       "mean   1290.500000\n",
       "std     744.926171\n",
       "min       1.000000\n",
       "25%     645.750000\n",
       "50%    1290.500000\n",
       "75%    1935.250000\n",
       "max    2580.000000"
      ]
     },
     "execution_count": 7,
     "metadata": {},
     "output_type": "execute_result"
    }
   ],
   "source": [
    "df.describe()"
   ]
  },
  {
   "cell_type": "code",
   "execution_count": 8,
   "metadata": {},
   "outputs": [
    {
     "data": {
      "text/plain": [
       "count     2577\n",
       "unique      50\n",
       "top          4\n",
       "freq       384\n",
       "Name: Stars, dtype: object"
      ]
     },
     "execution_count": 8,
     "metadata": {},
     "output_type": "execute_result"
    }
   ],
   "source": [
    "df.Stars.describe()"
   ]
  },
  {
   "cell_type": "code",
   "execution_count": 9,
   "metadata": {},
   "outputs": [
    {
     "data": {
      "text/html": [
       "<div>\n",
       "<style scoped>\n",
       "    .dataframe tbody tr th:only-of-type {\n",
       "        vertical-align: middle;\n",
       "    }\n",
       "\n",
       "    .dataframe tbody tr th {\n",
       "        vertical-align: top;\n",
       "    }\n",
       "\n",
       "    .dataframe thead th {\n",
       "        text-align: right;\n",
       "    }\n",
       "</style>\n",
       "<table border=\"1\" class=\"dataframe\">\n",
       "  <thead>\n",
       "    <tr style=\"text-align: right;\">\n",
       "      <th></th>\n",
       "      <th>Review #</th>\n",
       "      <th>Brand</th>\n",
       "      <th>Variety</th>\n",
       "      <th>Country</th>\n",
       "      <th>Stars</th>\n",
       "      <th>Top Ten</th>\n",
       "    </tr>\n",
       "    <tr>\n",
       "      <th>Style</th>\n",
       "      <th></th>\n",
       "      <th></th>\n",
       "      <th></th>\n",
       "      <th></th>\n",
       "      <th></th>\n",
       "      <th></th>\n",
       "    </tr>\n",
       "  </thead>\n",
       "  <tbody>\n",
       "    <tr>\n",
       "      <th>Bar</th>\n",
       "      <td>1</td>\n",
       "      <td>1</td>\n",
       "      <td>1</td>\n",
       "      <td>1</td>\n",
       "      <td>1</td>\n",
       "      <td>0</td>\n",
       "    </tr>\n",
       "    <tr>\n",
       "      <th>Bowl</th>\n",
       "      <td>481</td>\n",
       "      <td>481</td>\n",
       "      <td>481</td>\n",
       "      <td>481</td>\n",
       "      <td>481</td>\n",
       "      <td>1</td>\n",
       "    </tr>\n",
       "    <tr>\n",
       "      <th>Box</th>\n",
       "      <td>6</td>\n",
       "      <td>6</td>\n",
       "      <td>6</td>\n",
       "      <td>6</td>\n",
       "      <td>6</td>\n",
       "      <td>0</td>\n",
       "    </tr>\n",
       "    <tr>\n",
       "      <th>Can</th>\n",
       "      <td>1</td>\n",
       "      <td>1</td>\n",
       "      <td>1</td>\n",
       "      <td>1</td>\n",
       "      <td>1</td>\n",
       "      <td>0</td>\n",
       "    </tr>\n",
       "    <tr>\n",
       "      <th>Cup</th>\n",
       "      <td>450</td>\n",
       "      <td>450</td>\n",
       "      <td>450</td>\n",
       "      <td>450</td>\n",
       "      <td>450</td>\n",
       "      <td>1</td>\n",
       "    </tr>\n",
       "    <tr>\n",
       "      <th>Pack</th>\n",
       "      <td>1531</td>\n",
       "      <td>1531</td>\n",
       "      <td>1531</td>\n",
       "      <td>1531</td>\n",
       "      <td>1528</td>\n",
       "      <td>35</td>\n",
       "    </tr>\n",
       "    <tr>\n",
       "      <th>Tray</th>\n",
       "      <td>108</td>\n",
       "      <td>108</td>\n",
       "      <td>108</td>\n",
       "      <td>108</td>\n",
       "      <td>108</td>\n",
       "      <td>4</td>\n",
       "    </tr>\n",
       "  </tbody>\n",
       "</table>\n",
       "</div>"
      ],
      "text/plain": [
       "       Review #  Brand  Variety  Country  Stars  Top Ten\n",
       "Style                                                   \n",
       "Bar           1      1        1        1      1        0\n",
       "Bowl        481    481      481      481    481        1\n",
       "Box           6      6        6        6      6        0\n",
       "Can           1      1        1        1      1        0\n",
       "Cup         450    450      450      450    450        1\n",
       "Pack       1531   1531     1531     1531   1528       35\n",
       "Tray        108    108      108      108    108        4"
      ]
     },
     "execution_count": 9,
     "metadata": {},
     "output_type": "execute_result"
    }
   ],
   "source": [
    "df.groupby('Style').count()"
   ]
  },
  {
   "cell_type": "code",
   "execution_count": 10,
   "metadata": {},
   "outputs": [],
   "source": [
    "%matplotlib inline"
   ]
  },
  {
   "cell_type": "code",
   "execution_count": 11,
   "metadata": {},
   "outputs": [],
   "source": [
    "import matplotlib.pyplot as plt "
   ]
  },
  {
   "cell_type": "code",
   "execution_count": 12,
   "metadata": {},
   "outputs": [
    {
     "data": {
      "text/plain": [
       "<matplotlib.axes._subplots.AxesSubplot at 0x10ff9af28>"
      ]
     },
     "execution_count": 12,
     "metadata": {},
     "output_type": "execute_result"
    },
    {
     "data": {
      "image/png": "[encoded data removed]",
      "text/plain": [
       "<Figure size 432x288 with 1 Axes>"
      ]
     },
     "metadata": {},
     "output_type": "display_data"
    }
   ],
   "source": [
    "df['Review #'].hist()"
   ]
  },
  {
   "cell_type": "code",
   "execution_count": 13,
   "metadata": {},
   "outputs": [],
   "source": [
    "import seaborn as sns"
   ]
  },
  {
   "cell_type": "code",
   "execution_count": 14,
   "metadata": {},
   "outputs": [
    {
     "data": {
      "text/plain": [
       "<matplotlib.axes._subplots.AxesSubplot at 0x1a1d3bb9e8>"
      ]
     },
     "execution_count": 14,
     "metadata": {},
     "output_type": "execute_result"
    },
    {
     "data": {
      "image/png": "[encoded data removed]",
      "text/plain": [
       "<Figure size 432x288 with 1 Axes>"
      ]
     },
     "metadata": {},
     "output_type": "display_data"
    }
   ],
   "source": [
    "sns.boxplot(x = 'Stars', y = 'Review #', data = df)"
   ]
  },
  {
   "cell_type": "code",
   "execution_count": 15,
   "metadata": {},
   "outputs": [
    {
     "data": {
      "text/plain": [
       "Brand\n",
       "1 To 3 Noodles          1\n",
       "7 Select                2\n",
       "7 Select/Nissin         1\n",
       "A-One                   4\n",
       "A-Sha Dry Noodle       26\n",
       "A1                      3\n",
       "ABC                    12\n",
       "Acecook                15\n",
       "Adabi                   4\n",
       "Ah Lai                  2\n",
       "Ajinatori               2\n",
       "Amianda                10\n",
       "Amino                   3\n",
       "Annie Chun's           12\n",
       "Aroi                    2\n",
       "Asia Gold               4\n",
       "Asian Thai Foods       14\n",
       "Authentically Asian     1\n",
       "Azami                   5\n",
       "Baijia                 11\n",
       "Baixiang Noodles        5\n",
       "Baltix                  2\n",
       "Bamee                   5\n",
       "Batchelors             16\n",
       "Binh Tay                3\n",
       "Bon Go Jang             2\n",
       "Bonasia                 4\n",
       "Boss                    1\n",
       "CJ CheilJedang          2\n",
       "Campbell's              3\n",
       "                       ..\n",
       "Unzen                   1\n",
       "Urban Noodle            5\n",
       "Ve Wong                24\n",
       "Vedan                   6\n",
       "Vifon                  33\n",
       "Vina Acecook           34\n",
       "Vit's                  13\n",
       "Wai Wai                25\n",
       "Wang                    6\n",
       "Weh Lih                 1\n",
       "Wei Chuan               2\n",
       "Wei Lih                15\n",
       "Wei Wei                 3\n",
       "Westbrae                1\n",
       "Western Family          6\n",
       "World O' Noodle         2\n",
       "Wu Mu                   7\n",
       "Wu-Mu                  12\n",
       "Wugudaochang           10\n",
       "Xiao Ban Mian           3\n",
       "Xiuhe                   1\n",
       "Yamachan               11\n",
       "Yamadai                 1\n",
       "Yamamori                2\n",
       "Yamamoto                4\n",
       "Yum Yum                12\n",
       "Yum-Mie                 1\n",
       "Zow Zow                 1\n",
       "iMee                    4\n",
       "iNoodle                 2\n",
       "Name: Review #, Length: 355, dtype: int64"
      ]
     },
     "execution_count": 15,
     "metadata": {},
     "output_type": "execute_result"
    }
   ],
   "source": [
    "df.groupby('Brand')['Review #'].count()"
   ]
  },
  {
   "cell_type": "code",
   "execution_count": 16,
   "metadata": {},
   "outputs": [
    {
     "data": {
      "text/plain": [
       "Brand\n",
       "1 To 3 Noodles          1\n",
       "7 Select                2\n",
       "7 Select/Nissin         1\n",
       "A-One                   4\n",
       "A-Sha Dry Noodle       26\n",
       "A1                      3\n",
       "ABC                    12\n",
       "Acecook                15\n",
       "Adabi                   4\n",
       "Ah Lai                  2\n",
       "Ajinatori               2\n",
       "Amianda                10\n",
       "Amino                   3\n",
       "Annie Chun's           12\n",
       "Aroi                    2\n",
       "Asia Gold               4\n",
       "Asian Thai Foods       14\n",
       "Authentically Asian     1\n",
       "Azami                   5\n",
       "Baijia                 11\n",
       "Baixiang Noodles        5\n",
       "Baltix                  2\n",
       "Bamee                   5\n",
       "Batchelors             16\n",
       "Binh Tay                3\n",
       "Bon Go Jang             2\n",
       "Bonasia                 4\n",
       "Boss                    1\n",
       "CJ CheilJedang          2\n",
       "Campbell's              3\n",
       "                       ..\n",
       "Unzen                   1\n",
       "Urban Noodle            5\n",
       "Ve Wong                24\n",
       "Vedan                   6\n",
       "Vifon                  33\n",
       "Vina Acecook           34\n",
       "Vit's                  13\n",
       "Wai Wai                25\n",
       "Wang                    6\n",
       "Weh Lih                 1\n",
       "Wei Chuan               2\n",
       "Wei Lih                15\n",
       "Wei Wei                 3\n",
       "Westbrae                1\n",
       "Western Family          6\n",
       "World O' Noodle         2\n",
       "Wu Mu                   7\n",
       "Wu-Mu                  12\n",
       "Wugudaochang           10\n",
       "Xiao Ban Mian           3\n",
       "Xiuhe                   1\n",
       "Yamachan               11\n",
       "Yamadai                 1\n",
       "Yamamori                2\n",
       "Yamamoto                4\n",
       "Yum Yum                12\n",
       "Yum-Mie                 1\n",
       "Zow Zow                 1\n",
       "iMee                    4\n",
       "iNoodle                 2\n",
       "Name: Stars, Length: 355, dtype: int64"
      ]
     },
     "execution_count": 16,
     "metadata": {},
     "output_type": "execute_result"
    }
   ],
   "source": [
    "df.groupby('Brand')['Stars'].count()"
   ]
  },
  {
   "cell_type": "code",
   "execution_count": 18,
   "metadata": {},
   "outputs": [
    {
     "data": {
      "text/plain": [
       "Country\n",
       "Australia        0\n",
       "Bangladesh       0\n",
       "Brazil           0\n",
       "Cambodia         0\n",
       "Canada           0\n",
       "China            1\n",
       "Colombia         0\n",
       "Dubai            0\n",
       "Estonia          0\n",
       "Fiji             0\n",
       "Finland          0\n",
       "Germany          0\n",
       "Ghana            0\n",
       "Holland          0\n",
       "Hong Kong        1\n",
       "Hungary          0\n",
       "India            0\n",
       "Indonesia        6\n",
       "Japan            6\n",
       "Malaysia         6\n",
       "Mexico           0\n",
       "Myanmar          1\n",
       "Nepal            0\n",
       "Netherlands      0\n",
       "Nigeria          0\n",
       "Pakistan         0\n",
       "Philippines      0\n",
       "Poland           0\n",
       "Sarawak          0\n",
       "Singapore        7\n",
       "South Korea      7\n",
       "Sweden           0\n",
       "Taiwan           2\n",
       "Thailand         3\n",
       "UK               0\n",
       "USA              1\n",
       "United States    0\n",
       "Vietnam          0\n",
       "Name: Top Ten, dtype: int64"
      ]
     },
     "execution_count": 18,
     "metadata": {},
     "output_type": "execute_result"
    }
   ],
   "source": [
    "df.groupby('Country')['Top Ten'].count()"
   ]
  },
  {
   "cell_type": "code",
   "execution_count": 20,
   "metadata": {},
   "outputs": [],
   "source": [
    "tt = df.groupby('Country')['Top Ten'].count()"
   ]
  },
  {
   "cell_type": "code",
   "execution_count": 21,
   "metadata": {},
   "outputs": [
    {
     "data": {
      "text/plain": [
       "Country\n",
       "Australia        0\n",
       "Bangladesh       0\n",
       "Brazil           0\n",
       "Cambodia         0\n",
       "Canada           0\n",
       "China            1\n",
       "Colombia         0\n",
       "Dubai            0\n",
       "Estonia          0\n",
       "Fiji             0\n",
       "Finland          0\n",
       "Germany          0\n",
       "Ghana            0\n",
       "Holland          0\n",
       "Hong Kong        1\n",
       "Hungary          0\n",
       "India            0\n",
       "Indonesia        6\n",
       "Japan            6\n",
       "Malaysia         6\n",
       "Mexico           0\n",
       "Myanmar          1\n",
       "Nepal            0\n",
       "Netherlands      0\n",
       "Nigeria          0\n",
       "Pakistan         0\n",
       "Philippines      0\n",
       "Poland           0\n",
       "Sarawak          0\n",
       "Singapore        7\n",
       "South Korea      7\n",
       "Sweden           0\n",
       "Taiwan           2\n",
       "Thailand         3\n",
       "UK               0\n",
       "USA              1\n",
       "United States    0\n",
       "Vietnam          0\n",
       "Name: Top Ten, dtype: int64"
      ]
     },
     "execution_count": 21,
     "metadata": {},
     "output_type": "execute_result"
    }
   ],
   "source": [
    "tt"
   ]
  },
  {
   "cell_type": "code",
   "execution_count": 22,
   "metadata": {},
   "outputs": [
    {
     "data": {
      "text/plain": [
       "0"
      ]
     },
     "execution_count": 22,
     "metadata": {},
     "output_type": "execute_result"
    }
   ],
   "source": [
    "tt[4]"
   ]
  },
  {
   "cell_type": "code",
   "execution_count": 23,
   "metadata": {},
   "outputs": [
    {
     "data": {
      "text/plain": [
       "pandas.core.series.Series"
      ]
     },
     "execution_count": 23,
     "metadata": {},
     "output_type": "execute_result"
    }
   ],
   "source": [
    "type(tt)"
   ]
  },
  {
   "cell_type": "code",
   "execution_count": 24,
   "metadata": {},
   "outputs": [
    {
     "data": {
      "text/plain": [
       "<BarContainer object of 38 artists>"
      ]
     },
     "execution_count": 24,
     "metadata": {},
     "output_type": "execute_result"
    },
    {
     "data": {
      "image/png": "[encoded data removed]",
      "text/plain": [
       "<Figure size 432x288 with 1 Axes>"
      ]
     },
     "metadata": {},
     "output_type": "display_data"
    }
   ],
   "source": [
    "plt.bar(tt.index, tt)"
   ]
  },
  {
   "cell_type": "code",
   "execution_count": 26,
   "metadata": {},
   "outputs": [
    {
     "data": {
      "text/plain": [
       "Brand\n",
       "1 To 3 Noodles          1\n",
       "7 Select                2\n",
       "7 Select/Nissin         1\n",
       "A-One                   4\n",
       "A-Sha Dry Noodle       26\n",
       "A1                      3\n",
       "ABC                    12\n",
       "Acecook                15\n",
       "Adabi                   4\n",
       "Ah Lai                  2\n",
       "Ajinatori               2\n",
       "Amianda                10\n",
       "Amino                   3\n",
       "Annie Chun's           12\n",
       "Aroi                    2\n",
       "Asia Gold               4\n",
       "Asian Thai Foods       14\n",
       "Authentically Asian     1\n",
       "Azami                   5\n",
       "Baijia                 11\n",
       "Baixiang Noodles        5\n",
       "Baltix                  2\n",
       "Bamee                   5\n",
       "Batchelors             16\n",
       "Binh Tay                3\n",
       "Bon Go Jang             2\n",
       "Bonasia                 4\n",
       "Boss                    1\n",
       "CJ CheilJedang          2\n",
       "Campbell's              3\n",
       "                       ..\n",
       "Unzen                   1\n",
       "Urban Noodle            5\n",
       "Ve Wong                24\n",
       "Vedan                   6\n",
       "Vifon                  33\n",
       "Vina Acecook           34\n",
       "Vit's                  13\n",
       "Wai Wai                25\n",
       "Wang                    6\n",
       "Weh Lih                 1\n",
       "Wei Chuan               2\n",
       "Wei Lih                15\n",
       "Wei Wei                 3\n",
       "Westbrae                1\n",
       "Western Family          6\n",
       "World O' Noodle         2\n",
       "Wu Mu                   7\n",
       "Wu-Mu                  12\n",
       "Wugudaochang           10\n",
       "Xiao Ban Mian           3\n",
       "Xiuhe                   1\n",
       "Yamachan               11\n",
       "Yamadai                 1\n",
       "Yamamori                2\n",
       "Yamamoto                4\n",
       "Yum Yum                12\n",
       "Yum-Mie                 1\n",
       "Zow Zow                 1\n",
       "iMee                    4\n",
       "iNoodle                 2\n",
       "Name: Stars, Length: 355, dtype: int64"
      ]
     },
     "execution_count": 26,
     "metadata": {},
     "output_type": "execute_result"
    }
   ],
   "source": [
    "df.groupby('Brand')['Stars'].count()"
   ]
  },
  {
   "cell_type": "code",
   "execution_count": 27,
   "metadata": {},
   "outputs": [],
   "source": [
    "bs = df.groupby('Brand')['Stars'].count()"
   ]
  },
  {
   "cell_type": "code",
   "execution_count": 28,
   "metadata": {},
   "outputs": [
    {
     "data": {
      "text/plain": [
       "Brand\n",
       "1 To 3 Noodles          1\n",
       "7 Select                2\n",
       "7 Select/Nissin         1\n",
       "A-One                   4\n",
       "A-Sha Dry Noodle       26\n",
       "A1                      3\n",
       "ABC                    12\n",
       "Acecook                15\n",
       "Adabi                   4\n",
       "Ah Lai                  2\n",
       "Ajinatori               2\n",
       "Amianda                10\n",
       "Amino                   3\n",
       "Annie Chun's           12\n",
       "Aroi                    2\n",
       "Asia Gold               4\n",
       "Asian Thai Foods       14\n",
       "Authentically Asian     1\n",
       "Azami                   5\n",
       "Baijia                 11\n",
       "Baixiang Noodles        5\n",
       "Baltix                  2\n",
       "Bamee                   5\n",
       "Batchelors             16\n",
       "Binh Tay                3\n",
       "Bon Go Jang             2\n",
       "Bonasia                 4\n",
       "Boss                    1\n",
       "CJ CheilJedang          2\n",
       "Campbell's              3\n",
       "                       ..\n",
       "Unzen                   1\n",
       "Urban Noodle            5\n",
       "Ve Wong                24\n",
       "Vedan                   6\n",
       "Vifon                  33\n",
       "Vina Acecook           34\n",
       "Vit's                  13\n",
       "Wai Wai                25\n",
       "Wang                    6\n",
       "Weh Lih                 1\n",
       "Wei Chuan               2\n",
       "Wei Lih                15\n",
       "Wei Wei                 3\n",
       "Westbrae                1\n",
       "Western Family          6\n",
       "World O' Noodle         2\n",
       "Wu Mu                   7\n",
       "Wu-Mu                  12\n",
       "Wugudaochang           10\n",
       "Xiao Ban Mian           3\n",
       "Xiuhe                   1\n",
       "Yamachan               11\n",
       "Yamadai                 1\n",
       "Yamamori                2\n",
       "Yamamoto                4\n",
       "Yum Yum                12\n",
       "Yum-Mie                 1\n",
       "Zow Zow                 1\n",
       "iMee                    4\n",
       "iNoodle                 2\n",
       "Name: Stars, Length: 355, dtype: int64"
      ]
     },
     "execution_count": 28,
     "metadata": {},
     "output_type": "execute_result"
    }
   ],
   "source": [
    "bs"
   ]
  },
  {
   "cell_type": "code",
   "execution_count": 30,
   "metadata": {},
   "outputs": [
    {
     "data": {
      "text/plain": [
       "<BarContainer object of 355 artists>"
      ]
     },
     "execution_count": 30,
     "metadata": {},
     "output_type": "execute_result"
    },
    {
     "data": {
      "image/png": "[encoded data removed]",
      "text/plain": [
       "<Figure size 432x288 with 1 Axes>"
      ]
     },
     "metadata": {},
     "output_type": "display_data"
    }
   ],
   "source": [
    "plt.bar(bs, bs.index)"
   ]
  },
  {
   "cell_type": "code",
   "execution_count": 31,
   "metadata": {},
   "outputs": [
    {
     "data": {
      "text/plain": [
       "Style\n",
       "Bar        1\n",
       "Bowl     481\n",
       "Box        6\n",
       "Can        1\n",
       "Cup      450\n",
       "Pack    1531\n",
       "Tray     108\n",
       "Name: Brand, dtype: int64"
      ]
     },
     "execution_count": 31,
     "metadata": {},
     "output_type": "execute_result"
    }
   ],
   "source": [
    "df.groupby('Style')['Brand'].count()"
   ]
  },
  {
   "cell_type": "code",
   "execution_count": 36,
   "metadata": {},
   "outputs": [],
   "source": [
    "sb = df.groupby('Style')['Stars'].count()"
   ]
  },
  {
   "cell_type": "code",
   "execution_count": 37,
   "metadata": {},
   "outputs": [
    {
     "data": {
      "text/plain": [
       "Style\n",
       "Bar        1\n",
       "Bowl     481\n",
       "Box        6\n",
       "Can        1\n",
       "Cup      450\n",
       "Pack    1528\n",
       "Tray     108\n",
       "Name: Stars, dtype: int64"
      ]
     },
     "execution_count": 37,
     "metadata": {},
     "output_type": "execute_result"
    }
   ],
   "source": [
    "sb"
   ]
  },
  {
   "cell_type": "code",
   "execution_count": 40,
   "metadata": {},
   "outputs": [
    {
     "data": {
      "text/plain": [
       "<BarContainer object of 7 artists>"
      ]
     },
     "execution_count": 40,
     "metadata": {},
     "output_type": "execute_result"
    },
    {
     "data": {
      "image/png": "[encoded data removed]",
      "text/plain": [
       "<Figure size 432x288 with 1 Axes>"
      ]
     },
     "metadata": {},
     "output_type": "display_data"
    }
   ],
   "source": [
    "plt.bar(sb.index, sb)"
   ]
  },
  {
   "cell_type": "code",
   "execution_count": null,
   "metadata": {},
   "outputs": [],
   "source": [
    "df['Stars'].hist()"
   ]
  },
  {
   "cell_type": "code",
   "execution_count": null,
   "metadata": {},
   "outputs": [],
   "source": []
  }
 ],
 "metadata": {
  "kernelspec": {
   "display_name": "Python 3",
   "language": "python",
   "name": "python3"
  },
  "language_info": {
   "codemirror_mode": {
    "name": "ipython",
    "version": 3
   },
   "file_extension": ".py",
   "mimetype": "text/x-python",
   "name": "python",
   "nbconvert_exporter": "python",
   "pygments_lexer": "ipython3",
   "version": "3.6.5"
  }
 },
 "nbformat": 4,
 "nbformat_minor": 2
}
